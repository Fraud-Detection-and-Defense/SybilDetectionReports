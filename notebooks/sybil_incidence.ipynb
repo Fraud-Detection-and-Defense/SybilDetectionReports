{
 "cells": [
  {
   "cell_type": "code",
   "execution_count": 87,
   "id": "930a1e5d-7590-4bc4-9e43-7241552e782d",
   "metadata": {},
   "outputs": [],
   "source": [
    "import pandas as pd\n",
    "import plotly.express as px\n",
    "from scipy.stats import hypergeom\n",
    "import pymc3 as pm\n",
    "import numpy as np"
   ]
  },
  {
   "cell_type": "code",
   "execution_count": 76,
   "id": "9c753c8b-a77b-49a0-93bf-0b8a67a2f635",
   "metadata": {},
   "outputs": [
    {
     "name": "stdout",
     "output_type": "stream",
     "text": [
      "['f' 't']\n",
      "['high' 'so-so' 'low']\n"
     ]
    }
   ],
   "source": [
    "dfs = pd.read_excel('../data/human_evaluations/gr12-02.xlsx', \n",
    "                     sheet_name=None)\n",
    "\n",
    "\n",
    "dfs = {sheet: df.assign(sheet_name=sheet)\n",
    "       for sheet, df in dfs.items() \n",
    "       if 'Instructions' not in sheet\n",
    "       and 'Squelches' not in sheet}\n",
    "\n",
    "COL_MAP = {'Is Sybil? (T or F)': 'is_sybil',\n",
    "           'Confidence (low, so-so, high)': 'confidence',\n",
    "           'Unnamed: 0': 'handle'}\n",
    "\n",
    "COLS = {'handle', 'is_sybil', 'confidence', 'Notes'}\n",
    "\n",
    "\n",
    "def clean(s):\n",
    "    return (s.lower().strip())\n",
    "\n",
    "def is_sybil_clean(s):\n",
    "    return s.replace('ff', 'f').replace('tt', 't')\n",
    "\n",
    "def confidence_clean(s):\n",
    "    return (s.replace('so-so-high', 'so-so')\n",
    "            .replace('soso', 'so-so')\n",
    "            .replace('sosos', 'so-so')\n",
    "            .replace('med', 'so-so')\n",
    "            .replace('figh', 'high')\n",
    "            .replace('sos', 'so-so')\n",
    "            .replace('so-so-so', 'so-so')\n",
    "           )\n",
    "\n",
    "df = (pd.concat(dfs.values())\n",
    "        .rename(columns=COL_MAP)\n",
    "        .dropna(subset=['is_sybil', 'confidence'])\n",
    "        .assign(is_sybil=lambda df: df.is_sybil.map(clean).map(is_sybil_clean))\n",
    "        .assign(confidence=lambda df: df.confidence.map(clean).map(confidence_clean)) \n",
    "        .drop_duplicates('handle')\n",
    "     )\n",
    "\n",
    "valid_inds = (df.is_sybil != '-') | (df.confidence != '-')\n",
    "df = df.loc[valid_inds, COLS]\n",
    "\n",
    "print(df.is_sybil.unique())\n",
    "print(df.confidence.unique())\n",
    "\n",
    "\n",
    "df['confidence'] = df.confidence.map({'low': 0.0, 'so-so': 0.5, 'high': 1.0})\n",
    "df['is_sybil'] = df.is_sybil.map({'f': 0.0, 't': 1.0})\n",
    "\n",
    "\n",
    "def f(row):\n",
    "    if row.is_sybil == 1.0:\n",
    "        return (3 / 5) + (2 * row.confidence / 5) \n",
    "        \n",
    "    else:\n",
    "        return 2 * (1 - row.confidence) / 5\n",
    "    \n",
    "df['score'] = df.apply(f, axis=1)"
   ]
  },
  {
   "cell_type": "code",
   "execution_count": 77,
   "id": "001a4d78-39ba-47da-82ae-2b5612152065",
   "metadata": {},
   "outputs": [
    {
     "data": {
      "application/vnd.plotly.v1+json": {
       "config": {
        "plotlyServerURL": "https://plot.ly"
       },
       "data": [
        {
         "alignmentgroup": "True",
         "bingroup": "x",
         "hovertemplate": "variable=score<br>value=%{x}<br>count=%{y}<extra></extra>",
         "legendgroup": "score",
         "marker": {
          "color": "#636efa",
          "pattern": {
           "shape": ""
          }
         },
         "name": "score",
         "offsetgroup": "score",
         "orientation": "v",
         "showlegend": true,
         "type": "histogram",
         "x": [
          0,
          0.2,
          0.2,
          1,
          0.4,
          0,
          1,
          0.8,
          0.2,
          1,
          0.8,
          0.2,
          1,
          0.8,
          0.4,
          0.8,
          0,
          0.2,
          0.2,
          0,
          0.2,
          0,
          0.2,
          0,
          0,
          0,
          0.2,
          0.6,
          0,
          0.8,
          1,
          1,
          0,
          1,
          1,
          0,
          1,
          0,
          1,
          0,
          0.2,
          0,
          1,
          0.2,
          0.8,
          0,
          0.8,
          0,
          1,
          1,
          1,
          0.8,
          0.2,
          0,
          1,
          0,
          1,
          1,
          1,
          0.2,
          0.2,
          0,
          0,
          0.8,
          0,
          0.4,
          0.8,
          0,
          0,
          1,
          0,
          0,
          1,
          0.2,
          1,
          1,
          0.2,
          0.2,
          1,
          1,
          0.8,
          0,
          1,
          1,
          0.8,
          0.8,
          1,
          0.4,
          1,
          1,
          0,
          0,
          0.4,
          0,
          1,
          0.8,
          0,
          1,
          0.2,
          1,
          1,
          0.8,
          1,
          1,
          0,
          0.8,
          0,
          1,
          0,
          0.2,
          1,
          0.2,
          0.4,
          1,
          1,
          1,
          1,
          1,
          0,
          1,
          0.2,
          0,
          0.8,
          0,
          0,
          0.8,
          1,
          1,
          0.8,
          0.2,
          0,
          0,
          0.8,
          0.2,
          0.2,
          0,
          0.8,
          0.8,
          0.8,
          0,
          0.8,
          0,
          0,
          0.8,
          0,
          0.8,
          1,
          1,
          1,
          1,
          1,
          1,
          1,
          0.2,
          0.8,
          0,
          1,
          0,
          0,
          0,
          0,
          1,
          0,
          0.2,
          0,
          0.8,
          0.8,
          0.8,
          1,
          0.2,
          0,
          0,
          0,
          0,
          1,
          0.2,
          1,
          1,
          0,
          0.8,
          1,
          0.8,
          0.4,
          0.6,
          1,
          1,
          0.8,
          0.4,
          1,
          1,
          1,
          0.2,
          0.4,
          1,
          0.8,
          0.8,
          0.4,
          0,
          0.8,
          1,
          0.2,
          0,
          1,
          0.4,
          0.8,
          0.4,
          1,
          0.6,
          0.6,
          0.4,
          0.2,
          0.8,
          0,
          0,
          1,
          0,
          0.2,
          0.2,
          1,
          0.4,
          0.8,
          0.8,
          0,
          0.2,
          0.4,
          0.8,
          0.2,
          0,
          0.2,
          0.8,
          1,
          0.2,
          0.8,
          0.8,
          1,
          1,
          0.2,
          0.2,
          0.2,
          1,
          1,
          0.2,
          0.2,
          1,
          1,
          0.4,
          1,
          1,
          1,
          0.4,
          1,
          0.8,
          0.8,
          0.2,
          0.2,
          0.8,
          0.4,
          0.2,
          0.8,
          0.8,
          0.8,
          0.2,
          0,
          0.4,
          0.2,
          1,
          0.8,
          0.2,
          0.2,
          0.2,
          1,
          0.2,
          0.4,
          0.2,
          0.2,
          0.8,
          0.4,
          1,
          0.4,
          0.4,
          0.4,
          1,
          0.2,
          0,
          0.2,
          0.8,
          0.2,
          1,
          1,
          0,
          0,
          0,
          0,
          0,
          0,
          0.2,
          0.2,
          0,
          0.2,
          0,
          0,
          0,
          0,
          0,
          0,
          0.2,
          0,
          0,
          0.2,
          0,
          0.2,
          0,
          0.2,
          0,
          0,
          0,
          0,
          0,
          0.2,
          0.2,
          0.2,
          0.2,
          0.2,
          0,
          0.2,
          0.2,
          0,
          0,
          0,
          0.2,
          0,
          0.2,
          0.2,
          0.4,
          0,
          0.2,
          0.2,
          0,
          0.4,
          1,
          0.2,
          0.2,
          0.4,
          0.4,
          0.4,
          0.4,
          0.4,
          0.4,
          0.4,
          0.4,
          0.2,
          0.4,
          0.2,
          0,
          0,
          0.4,
          0.4,
          0.4,
          1,
          0.2,
          0.4,
          0.4,
          0,
          0.4,
          0.4,
          0,
          0.2,
          0.4,
          0,
          0.4,
          0.8,
          0.4,
          0.2,
          0.2,
          0.4,
          0,
          0.8,
          1,
          0.2,
          1,
          0.2,
          1,
          0,
          0,
          1,
          1,
          0.8,
          0.2,
          0.2,
          1,
          1,
          0.4,
          0.2,
          1,
          0.8,
          0.4,
          1,
          0.6,
          1,
          1,
          0.2,
          1,
          0.4,
          1,
          1,
          0.2,
          1,
          0.4,
          0.4,
          1,
          0.4,
          0,
          0.4,
          1,
          1,
          0.4,
          0.6,
          0,
          1,
          1,
          0.4,
          0,
          0.6,
          1,
          1,
          0.6,
          0.6,
          1,
          0.6,
          0.4,
          0.4,
          0,
          0.6,
          0,
          0.6,
          0.6,
          0,
          0.8,
          1,
          0.2,
          0.2,
          0.8,
          0.6,
          0.6,
          0.6,
          0.6,
          1,
          0.8,
          0.2,
          0,
          1,
          0.2,
          0.2,
          0.8,
          0.8,
          1,
          0.2,
          0.8,
          0.2,
          0,
          0.2,
          0.8,
          1,
          0.8,
          1,
          0,
          0,
          0.2,
          0.4,
          0.4,
          0,
          0,
          0.2,
          0.8,
          0.6,
          0.2,
          0.4,
          0.8,
          0.4,
          0.6,
          0.6,
          0.4,
          0.8,
          0.6,
          0,
          1,
          0.2,
          0.6,
          1,
          0.8,
          0.2,
          0.2,
          0.8,
          0.8,
          0.2,
          0,
          1,
          0.4,
          0.6,
          0.8,
          1,
          0.2,
          0.8,
          0.8,
          0.2,
          0.2,
          0.8,
          0.8,
          0.8,
          0.6,
          0.6,
          0.6,
          0.8,
          0.2,
          0.2,
          0,
          1,
          0.8,
          1,
          1,
          0.6,
          0.2,
          0.4,
          0.8,
          0.8,
          0.6,
          0.6,
          0.2,
          0.4,
          0.6,
          0.6,
          0.2,
          0.4,
          0.2,
          0.2,
          0.6,
          0.6,
          0.6,
          0.2,
          0.2,
          0,
          0.4,
          0,
          0.4,
          0.2,
          0.6,
          0.6,
          0.6,
          0.4,
          0.6,
          0.4,
          0.4,
          0.6,
          0.4,
          0.2,
          0.6,
          0.4,
          0.6,
          0.6,
          0.4,
          0.6,
          0.6,
          0.6,
          0.4,
          0.4,
          0.6,
          0.2,
          0.8,
          0.2,
          1,
          1,
          0.2,
          0.8,
          0.2,
          0.8,
          1,
          1,
          0.8,
          0.8,
          0.2,
          1,
          0.8,
          1,
          1,
          1,
          1,
          0,
          1,
          1,
          1,
          0.8,
          0.8,
          0,
          1,
          1,
          0.8,
          1,
          1,
          1,
          0.8,
          0.2,
          1,
          0.2,
          0.8,
          1,
          0.8,
          0.2,
          0.8,
          1,
          1,
          0.6,
          0.6,
          0,
          0.2,
          0,
          0.6,
          0.4,
          0.8,
          0.4,
          1,
          0,
          1,
          0.2,
          0,
          0,
          0.4,
          1,
          0.8,
          0.4,
          0,
          1,
          0,
          0.6,
          1,
          0,
          0.2,
          0.6,
          1,
          0.2,
          0.6,
          0.4,
          0.2,
          0.8,
          0.6,
          0.8,
          0.6,
          0.2,
          1,
          1,
          0.2,
          1,
          0.6,
          0.4,
          0.6,
          0.6,
          0.6,
          0.6,
          0.2,
          0.2,
          0.2,
          0.6,
          0.8,
          0,
          0.6,
          0.2,
          1,
          0,
          0,
          0.2,
          0,
          1,
          0.8,
          0,
          0,
          0.2,
          0,
          0,
          0.4,
          0,
          0.2,
          0,
          0.4,
          0,
          0.6,
          0,
          0,
          0,
          0,
          0,
          0.8,
          0,
          0,
          0,
          0,
          0.8,
          0.4,
          0.4,
          0.6,
          0,
          0,
          0,
          0,
          0.4,
          0,
          1,
          0.6,
          0.4,
          0.4,
          0.2,
          0.2,
          0.4,
          0.8,
          0,
          0.6,
          0.2,
          0,
          0.6,
          0.2,
          0.4,
          0.4,
          0.4,
          0.6,
          0.6,
          0.8,
          0.8,
          0.2,
          0.2,
          0.4,
          0.4,
          0,
          0,
          0.4,
          0.2,
          0.8,
          1,
          0.2,
          0,
          0.8,
          0,
          0,
          0.8,
          0,
          0,
          0,
          0.6,
          0.8,
          0.8,
          1,
          0.2,
          0,
          0.4,
          0.2,
          1,
          0,
          0,
          1,
          0.2,
          0,
          0.8,
          1,
          1,
          0.2,
          1,
          0.2,
          1,
          0.8,
          0,
          1,
          0.2,
          0,
          1,
          1,
          1,
          1,
          0.4,
          0.2,
          1,
          1,
          1,
          1,
          1,
          0.4,
          0.2,
          1,
          0.2,
          1,
          0,
          1,
          1,
          1,
          1,
          0.4,
          0.8,
          0,
          1,
          0.4,
          0.8,
          0.8,
          0.4,
          1,
          0.8,
          1,
          0,
          0,
          0.2,
          0.8,
          0.8,
          0.4,
          1,
          0.2,
          1,
          0.8,
          1,
          0.4,
          1,
          0,
          1,
          1,
          0,
          0.2,
          1,
          0.2,
          1,
          0.4,
          0.4,
          0.2,
          0.4,
          0.6,
          0.4,
          0.2,
          0.4,
          0.4,
          0.2,
          0.4,
          0.2,
          0.4,
          0.6,
          0,
          0,
          0.4,
          0.2,
          0.4,
          0.6,
          0.2,
          0.2,
          0.2,
          0.2,
          0.6,
          0.4,
          0.2,
          0.2,
          0.4,
          0,
          0,
          0.2,
          0,
          0.4,
          0.4,
          0.4,
          0,
          0.2,
          0.2,
          0.4,
          0.2,
          1,
          0.8,
          0.2,
          0,
          0.4,
          0.2,
          0,
          0.2,
          0,
          0.2,
          1,
          0.2,
          0,
          0,
          0.2,
          0,
          0,
          1,
          0.6,
          0.8,
          0.2,
          0.4,
          0,
          0.8,
          0,
          0.2,
          0.2,
          0.2,
          1,
          0.8,
          0.4,
          0.8,
          0.8,
          0.4,
          0.2,
          0.4,
          0.8,
          0.8,
          0.8,
          0.8,
          1,
          0.8,
          0.4,
          0.8,
          1,
          0.8,
          1,
          0.4,
          1,
          0.8,
          0.8,
          1,
          1,
          1,
          1,
          0.4,
          0.6,
          1,
          0,
          0.2,
          0.2,
          0.2,
          0.6,
          0,
          0.6,
          0.6,
          0.6,
          0.2,
          0.2,
          0.8,
          0.6,
          0.8,
          0.8,
          0.2,
          0.2,
          0.2,
          1,
          0,
          0,
          0.2,
          0.6,
          0.6,
          0.6,
          0.6,
          0.2,
          0.2,
          0.2,
          0.2,
          0.2,
          0.8,
          0.2,
          0,
          1,
          1,
          0,
          0.6,
          0.2,
          1,
          1,
          0,
          0.2,
          1,
          0,
          0.2,
          0,
          0.8,
          0.2,
          0.8,
          0.2,
          0.2,
          0.2,
          0,
          0,
          0.2,
          0,
          0,
          0,
          0.4,
          0.2,
          0.6,
          0,
          0.4,
          0,
          0,
          0,
          1,
          0.4,
          1,
          1,
          0.4,
          0.2,
          0.2,
          0.6,
          0.2,
          1,
          0,
          1,
          1,
          1,
          1,
          0.4,
          0.2,
          0.8,
          1,
          0,
          0.2,
          0,
          0.2,
          1,
          1,
          0,
          0.6,
          0.6,
          0.8,
          0,
          0.2,
          0.4,
          0.4,
          0.4,
          0.4,
          0.8,
          0,
          0.8,
          0.2,
          0.8,
          0.4,
          0.6,
          0,
          0.2,
          1,
          0.2,
          0.8,
          0,
          0.2,
          0.2,
          0.2,
          0,
          0.4,
          0.2,
          0.8,
          0.6,
          0,
          0.6,
          0,
          0.4,
          0.2,
          0.4,
          0.4,
          1,
          1,
          0.2,
          1,
          1,
          1,
          1,
          1,
          0.8,
          1,
          0,
          0,
          0.8,
          1,
          1,
          0,
          1,
          0.2,
          1,
          0.8,
          0.8,
          0.8,
          0,
          0.8,
          0.2,
          1,
          0.2,
          0.2,
          0.8,
          1,
          1,
          0.8,
          0.2,
          0.2,
          0.6,
          0.6,
          0.8,
          0.2,
          1,
          1,
          1,
          0,
          0.2,
          1,
          0.8,
          0.6,
          0,
          0.2,
          1,
          1,
          0.2,
          0.2,
          0.2,
          0,
          0.6,
          0.2,
          0.2,
          0.4,
          0.2,
          0.2,
          0.6,
          0.6,
          0.2,
          0,
          0.2,
          0.2,
          0.2,
          0.4,
          0,
          0,
          0.4,
          0.2,
          0.4,
          0.2,
          0.6,
          0.2,
          0.2,
          0.2,
          0.2,
          0.2,
          0.8,
          0,
          0,
          0,
          1,
          1,
          0.8,
          1,
          0.8,
          1,
          1,
          0.6,
          1,
          1,
          0.6,
          0,
          1,
          0.8,
          0.2,
          0.2,
          0.4,
          0,
          0,
          0.8,
          0.6,
          1,
          0.8,
          0.4,
          0.4,
          0.4,
          0,
          0.6,
          0.4,
          0.6,
          0.2,
          0.4,
          0.2,
          0,
          0.8,
          0,
          0.6,
          0,
          0.2,
          0,
          0.6,
          0,
          0,
          0,
          0.8,
          0,
          0,
          0.8,
          0,
          0.6,
          1,
          1,
          1,
          0,
          0,
          0,
          0,
          1,
          0.8,
          0,
          0,
          0,
          1,
          0.8,
          0.4,
          0.4,
          0.2,
          1,
          0,
          0.4,
          1,
          1,
          0.4,
          0.2,
          0.4,
          0.2,
          0.2,
          0.8,
          1,
          1,
          1,
          1,
          0,
          0.4,
          1,
          1,
          0.8,
          0.8,
          0.4,
          1,
          0.2,
          0.8,
          0,
          0,
          0,
          0,
          0,
          0,
          0,
          0,
          0.6,
          0.2,
          0.4,
          1,
          0,
          0,
          0,
          0.6,
          1,
          0.2,
          0,
          1,
          0.6,
          0.2,
          1,
          0.6,
          0.2,
          0,
          0,
          0.4,
          0.2,
          0.6,
          0.8,
          0.4,
          0.4,
          0,
          0.6,
          0.4,
          0.4,
          0,
          0,
          0,
          0.4,
          0.4,
          0.4,
          0,
          1,
          0.6,
          0.6,
          0.4,
          1,
          0,
          0,
          0,
          0,
          0.6,
          0.8,
          0,
          0.2,
          0.8,
          0,
          0,
          0.2,
          0.6,
          0,
          1,
          0.4,
          0.2
         ],
         "xaxis": "x",
         "yaxis": "y"
        }
       ],
       "layout": {
        "autosize": true,
        "barmode": "relative",
        "legend": {
         "title": {
          "text": "variable"
         },
         "tracegroupgap": 0
        },
        "margin": {
         "t": 60
        },
        "template": {
         "data": {
          "bar": [
           {
            "error_x": {
             "color": "#2a3f5f"
            },
            "error_y": {
             "color": "#2a3f5f"
            },
            "marker": {
             "line": {
              "color": "#E5ECF6",
              "width": 0.5
             },
             "pattern": {
              "fillmode": "overlay",
              "size": 10,
              "solidity": 0.2
             }
            },
            "type": "bar"
           }
          ],
          "barpolar": [
           {
            "marker": {
             "line": {
              "color": "#E5ECF6",
              "width": 0.5
             },
             "pattern": {
              "fillmode": "overlay",
              "size": 10,
              "solidity": 0.2
             }
            },
            "type": "barpolar"
           }
          ],
          "carpet": [
           {
            "aaxis": {
             "endlinecolor": "#2a3f5f",
             "gridcolor": "white",
             "linecolor": "white",
             "minorgridcolor": "white",
             "startlinecolor": "#2a3f5f"
            },
            "baxis": {
             "endlinecolor": "#2a3f5f",
             "gridcolor": "white",
             "linecolor": "white",
             "minorgridcolor": "white",
             "startlinecolor": "#2a3f5f"
            },
            "type": "carpet"
           }
          ],
          "choropleth": [
           {
            "colorbar": {
             "outlinewidth": 0,
             "ticks": ""
            },
            "type": "choropleth"
           }
          ],
          "contour": [
           {
            "colorbar": {
             "outlinewidth": 0,
             "ticks": ""
            },
            "colorscale": [
             [
              0,
              "#0d0887"
             ],
             [
              0.1111111111111111,
              "#46039f"
             ],
             [
              0.2222222222222222,
              "#7201a8"
             ],
             [
              0.3333333333333333,
              "#9c179e"
             ],
             [
              0.4444444444444444,
              "#bd3786"
             ],
             [
              0.5555555555555556,
              "#d8576b"
             ],
             [
              0.6666666666666666,
              "#ed7953"
             ],
             [
              0.7777777777777778,
              "#fb9f3a"
             ],
             [
              0.8888888888888888,
              "#fdca26"
             ],
             [
              1,
              "#f0f921"
             ]
            ],
            "type": "contour"
           }
          ],
          "contourcarpet": [
           {
            "colorbar": {
             "outlinewidth": 0,
             "ticks": ""
            },
            "type": "contourcarpet"
           }
          ],
          "heatmap": [
           {
            "colorbar": {
             "outlinewidth": 0,
             "ticks": ""
            },
            "colorscale": [
             [
              0,
              "#0d0887"
             ],
             [
              0.1111111111111111,
              "#46039f"
             ],
             [
              0.2222222222222222,
              "#7201a8"
             ],
             [
              0.3333333333333333,
              "#9c179e"
             ],
             [
              0.4444444444444444,
              "#bd3786"
             ],
             [
              0.5555555555555556,
              "#d8576b"
             ],
             [
              0.6666666666666666,
              "#ed7953"
             ],
             [
              0.7777777777777778,
              "#fb9f3a"
             ],
             [
              0.8888888888888888,
              "#fdca26"
             ],
             [
              1,
              "#f0f921"
             ]
            ],
            "type": "heatmap"
           }
          ],
          "heatmapgl": [
           {
            "colorbar": {
             "outlinewidth": 0,
             "ticks": ""
            },
            "colorscale": [
             [
              0,
              "#0d0887"
             ],
             [
              0.1111111111111111,
              "#46039f"
             ],
             [
              0.2222222222222222,
              "#7201a8"
             ],
             [
              0.3333333333333333,
              "#9c179e"
             ],
             [
              0.4444444444444444,
              "#bd3786"
             ],
             [
              0.5555555555555556,
              "#d8576b"
             ],
             [
              0.6666666666666666,
              "#ed7953"
             ],
             [
              0.7777777777777778,
              "#fb9f3a"
             ],
             [
              0.8888888888888888,
              "#fdca26"
             ],
             [
              1,
              "#f0f921"
             ]
            ],
            "type": "heatmapgl"
           }
          ],
          "histogram": [
           {
            "marker": {
             "pattern": {
              "fillmode": "overlay",
              "size": 10,
              "solidity": 0.2
             }
            },
            "type": "histogram"
           }
          ],
          "histogram2d": [
           {
            "colorbar": {
             "outlinewidth": 0,
             "ticks": ""
            },
            "colorscale": [
             [
              0,
              "#0d0887"
             ],
             [
              0.1111111111111111,
              "#46039f"
             ],
             [
              0.2222222222222222,
              "#7201a8"
             ],
             [
              0.3333333333333333,
              "#9c179e"
             ],
             [
              0.4444444444444444,
              "#bd3786"
             ],
             [
              0.5555555555555556,
              "#d8576b"
             ],
             [
              0.6666666666666666,
              "#ed7953"
             ],
             [
              0.7777777777777778,
              "#fb9f3a"
             ],
             [
              0.8888888888888888,
              "#fdca26"
             ],
             [
              1,
              "#f0f921"
             ]
            ],
            "type": "histogram2d"
           }
          ],
          "histogram2dcontour": [
           {
            "colorbar": {
             "outlinewidth": 0,
             "ticks": ""
            },
            "colorscale": [
             [
              0,
              "#0d0887"
             ],
             [
              0.1111111111111111,
              "#46039f"
             ],
             [
              0.2222222222222222,
              "#7201a8"
             ],
             [
              0.3333333333333333,
              "#9c179e"
             ],
             [
              0.4444444444444444,
              "#bd3786"
             ],
             [
              0.5555555555555556,
              "#d8576b"
             ],
             [
              0.6666666666666666,
              "#ed7953"
             ],
             [
              0.7777777777777778,
              "#fb9f3a"
             ],
             [
              0.8888888888888888,
              "#fdca26"
             ],
             [
              1,
              "#f0f921"
             ]
            ],
            "type": "histogram2dcontour"
           }
          ],
          "mesh3d": [
           {
            "colorbar": {
             "outlinewidth": 0,
             "ticks": ""
            },
            "type": "mesh3d"
           }
          ],
          "parcoords": [
           {
            "line": {
             "colorbar": {
              "outlinewidth": 0,
              "ticks": ""
             }
            },
            "type": "parcoords"
           }
          ],
          "pie": [
           {
            "automargin": true,
            "type": "pie"
           }
          ],
          "scatter": [
           {
            "marker": {
             "colorbar": {
              "outlinewidth": 0,
              "ticks": ""
             }
            },
            "type": "scatter"
           }
          ],
          "scatter3d": [
           {
            "line": {
             "colorbar": {
              "outlinewidth": 0,
              "ticks": ""
             }
            },
            "marker": {
             "colorbar": {
              "outlinewidth": 0,
              "ticks": ""
             }
            },
            "type": "scatter3d"
           }
          ],
          "scattercarpet": [
           {
            "marker": {
             "colorbar": {
              "outlinewidth": 0,
              "ticks": ""
             }
            },
            "type": "scattercarpet"
           }
          ],
          "scattergeo": [
           {
            "marker": {
             "colorbar": {
              "outlinewidth": 0,
              "ticks": ""
             }
            },
            "type": "scattergeo"
           }
          ],
          "scattergl": [
           {
            "marker": {
             "colorbar": {
              "outlinewidth": 0,
              "ticks": ""
             }
            },
            "type": "scattergl"
           }
          ],
          "scattermapbox": [
           {
            "marker": {
             "colorbar": {
              "outlinewidth": 0,
              "ticks": ""
             }
            },
            "type": "scattermapbox"
           }
          ],
          "scatterpolar": [
           {
            "marker": {
             "colorbar": {
              "outlinewidth": 0,
              "ticks": ""
             }
            },
            "type": "scatterpolar"
           }
          ],
          "scatterpolargl": [
           {
            "marker": {
             "colorbar": {
              "outlinewidth": 0,
              "ticks": ""
             }
            },
            "type": "scatterpolargl"
           }
          ],
          "scatterternary": [
           {
            "marker": {
             "colorbar": {
              "outlinewidth": 0,
              "ticks": ""
             }
            },
            "type": "scatterternary"
           }
          ],
          "surface": [
           {
            "colorbar": {
             "outlinewidth": 0,
             "ticks": ""
            },
            "colorscale": [
             [
              0,
              "#0d0887"
             ],
             [
              0.1111111111111111,
              "#46039f"
             ],
             [
              0.2222222222222222,
              "#7201a8"
             ],
             [
              0.3333333333333333,
              "#9c179e"
             ],
             [
              0.4444444444444444,
              "#bd3786"
             ],
             [
              0.5555555555555556,
              "#d8576b"
             ],
             [
              0.6666666666666666,
              "#ed7953"
             ],
             [
              0.7777777777777778,
              "#fb9f3a"
             ],
             [
              0.8888888888888888,
              "#fdca26"
             ],
             [
              1,
              "#f0f921"
             ]
            ],
            "type": "surface"
           }
          ],
          "table": [
           {
            "cells": {
             "fill": {
              "color": "#EBF0F8"
             },
             "line": {
              "color": "white"
             }
            },
            "header": {
             "fill": {
              "color": "#C8D4E3"
             },
             "line": {
              "color": "white"
             }
            },
            "type": "table"
           }
          ]
         },
         "layout": {
          "annotationdefaults": {
           "arrowcolor": "#2a3f5f",
           "arrowhead": 0,
           "arrowwidth": 1
          },
          "autotypenumbers": "strict",
          "coloraxis": {
           "colorbar": {
            "outlinewidth": 0,
            "ticks": ""
           }
          },
          "colorscale": {
           "diverging": [
            [
             0,
             "#8e0152"
            ],
            [
             0.1,
             "#c51b7d"
            ],
            [
             0.2,
             "#de77ae"
            ],
            [
             0.3,
             "#f1b6da"
            ],
            [
             0.4,
             "#fde0ef"
            ],
            [
             0.5,
             "#f7f7f7"
            ],
            [
             0.6,
             "#e6f5d0"
            ],
            [
             0.7,
             "#b8e186"
            ],
            [
             0.8,
             "#7fbc41"
            ],
            [
             0.9,
             "#4d9221"
            ],
            [
             1,
             "#276419"
            ]
           ],
           "sequential": [
            [
             0,
             "#0d0887"
            ],
            [
             0.1111111111111111,
             "#46039f"
            ],
            [
             0.2222222222222222,
             "#7201a8"
            ],
            [
             0.3333333333333333,
             "#9c179e"
            ],
            [
             0.4444444444444444,
             "#bd3786"
            ],
            [
             0.5555555555555556,
             "#d8576b"
            ],
            [
             0.6666666666666666,
             "#ed7953"
            ],
            [
             0.7777777777777778,
             "#fb9f3a"
            ],
            [
             0.8888888888888888,
             "#fdca26"
            ],
            [
             1,
             "#f0f921"
            ]
           ],
           "sequentialminus": [
            [
             0,
             "#0d0887"
            ],
            [
             0.1111111111111111,
             "#46039f"
            ],
            [
             0.2222222222222222,
             "#7201a8"
            ],
            [
             0.3333333333333333,
             "#9c179e"
            ],
            [
             0.4444444444444444,
             "#bd3786"
            ],
            [
             0.5555555555555556,
             "#d8576b"
            ],
            [
             0.6666666666666666,
             "#ed7953"
            ],
            [
             0.7777777777777778,
             "#fb9f3a"
            ],
            [
             0.8888888888888888,
             "#fdca26"
            ],
            [
             1,
             "#f0f921"
            ]
           ]
          },
          "colorway": [
           "#636efa",
           "#EF553B",
           "#00cc96",
           "#ab63fa",
           "#FFA15A",
           "#19d3f3",
           "#FF6692",
           "#B6E880",
           "#FF97FF",
           "#FECB52"
          ],
          "font": {
           "color": "#2a3f5f"
          },
          "geo": {
           "bgcolor": "white",
           "lakecolor": "white",
           "landcolor": "#E5ECF6",
           "showlakes": true,
           "showland": true,
           "subunitcolor": "white"
          },
          "hoverlabel": {
           "align": "left"
          },
          "hovermode": "closest",
          "mapbox": {
           "style": "light"
          },
          "paper_bgcolor": "white",
          "plot_bgcolor": "#E5ECF6",
          "polar": {
           "angularaxis": {
            "gridcolor": "white",
            "linecolor": "white",
            "ticks": ""
           },
           "bgcolor": "#E5ECF6",
           "radialaxis": {
            "gridcolor": "white",
            "linecolor": "white",
            "ticks": ""
           }
          },
          "scene": {
           "xaxis": {
            "backgroundcolor": "#E5ECF6",
            "gridcolor": "white",
            "gridwidth": 2,
            "linecolor": "white",
            "showbackground": true,
            "ticks": "",
            "zerolinecolor": "white"
           },
           "yaxis": {
            "backgroundcolor": "#E5ECF6",
            "gridcolor": "white",
            "gridwidth": 2,
            "linecolor": "white",
            "showbackground": true,
            "ticks": "",
            "zerolinecolor": "white"
           },
           "zaxis": {
            "backgroundcolor": "#E5ECF6",
            "gridcolor": "white",
            "gridwidth": 2,
            "linecolor": "white",
            "showbackground": true,
            "ticks": "",
            "zerolinecolor": "white"
           }
          },
          "shapedefaults": {
           "line": {
            "color": "#2a3f5f"
           }
          },
          "ternary": {
           "aaxis": {
            "gridcolor": "white",
            "linecolor": "white",
            "ticks": ""
           },
           "baxis": {
            "gridcolor": "white",
            "linecolor": "white",
            "ticks": ""
           },
           "bgcolor": "#E5ECF6",
           "caxis": {
            "gridcolor": "white",
            "linecolor": "white",
            "ticks": ""
           }
          },
          "title": {
           "x": 0.05
          },
          "xaxis": {
           "automargin": true,
           "gridcolor": "white",
           "linecolor": "white",
           "ticks": "",
           "title": {
            "standoff": 15
           },
           "zerolinecolor": "white",
           "zerolinewidth": 2
          },
          "yaxis": {
           "automargin": true,
           "gridcolor": "white",
           "linecolor": "white",
           "ticks": "",
           "title": {
            "standoff": 15
           },
           "zerolinecolor": "white",
           "zerolinewidth": 2
          }
         }
        },
        "xaxis": {
         "anchor": "y",
         "autorange": true,
         "domain": [
          0,
          1
         ],
         "range": [
          -0.09999999999999998,
          1.1
         ],
         "title": {
          "text": "value"
         },
         "type": "linear"
        },
        "yaxis": {
         "anchor": "x",
         "autorange": true,
         "domain": [
          0,
          1
         ],
         "range": [
          0,
          297.89473684210526
         ],
         "title": {
          "text": "count"
         }
        }
       }
      },
      "image/png": "[encoded data removed]",
      "text/html": [
       "<div>                            <div id=\"2335db91-fc63-4d04-8e3f-12924a696229\" class=\"plotly-graph-div\" style=\"height:525px; width:100%;\"></div>            <script type=\"text/javascript\">                require([\"plotly\"], function(Plotly) {                    window.PLOTLYENV=window.PLOTLYENV || {};                                    if (document.getElementById(\"2335db91-fc63-4d04-8e3f-12924a696229\")) {                    Plotly.newPlot(                        \"2335db91-fc63-4d04-8e3f-12924a696229\",                        [{\"alignmentgroup\":\"True\",\"bingroup\":\"x\",\"hovertemplate\":\"variable=score<br>value=%{x}<br>count=%{y}<extra></extra>\",\"legendgroup\":\"score\",\"marker\":{\"color\":\"#636efa\",\"pattern\":{\"shape\":\"\"}},\"name\":\"score\",\"offsetgroup\":\"score\",\"orientation\":\"v\",\"showlegend\":true,\"type\":\"histogram\",\"x\":[0.0,0.2,0.2,1.0,0.4,0.0,1.0,0.8,0.2,1.0,0.8,0.2,1.0,0.8,0.4,0.8,0.0,0.2,0.2,0.0,0.2,0.0,0.2,0.0,0.0,0.0,0.2,0.6,0.0,0.8,1.0,1.0,0.0,1.0,1.0,0.0,1.0,0.0,1.0,0.0,0.2,0.0,1.0,0.2,0.8,0.0,0.8,0.0,1.0,1.0,1.0,0.8,0.2,0.0,1.0,0.0,1.0,1.0,1.0,0.2,0.2,0.0,0.0,0.8,0.0,0.4,0.8,0.0,0.0,1.0,0.0,0.0,1.0,0.2,1.0,1.0,0.2,0.2,1.0,1.0,0.8,0.0,1.0,1.0,0.8,0.8,1.0,0.4,1.0,1.0,0.0,0.0,0.4,0.0,1.0,0.8,0.0,1.0,0.2,1.0,1.0,0.8,1.0,1.0,0.0,0.8,0.0,1.0,0.0,0.2,1.0,0.2,0.4,1.0,1.0,1.0,1.0,1.0,0.0,1.0,0.2,0.0,0.8,0.0,0.0,0.8,1.0,1.0,0.8,0.2,0.0,0.0,0.8,0.2,0.2,0.0,0.8,0.8,0.8,0.0,0.8,0.0,0.0,0.8,0.0,0.8,1.0,1.0,1.0,1.0,1.0,1.0,1.0,0.2,0.8,0.0,1.0,0.0,0.0,0.0,0.0,1.0,0.0,0.2,0.0,0.8,0.8,0.8,1.0,0.2,0.0,0.0,0.0,0.0,1.0,0.2,1.0,1.0,0.0,0.8,1.0,0.8,0.4,0.6,1.0,1.0,0.8,0.4,1.0,1.0,1.0,0.2,0.4,1.0,0.8,0.8,0.4,0.0,0.8,1.0,0.2,0.0,1.0,0.4,0.8,0.4,1.0,0.6,0.6,0.4,0.2,0.8,0.0,0.0,1.0,0.0,0.2,0.2,1.0,0.4,0.8,0.8,0.0,0.2,0.4,0.8,0.2,0.0,0.2,0.8,1.0,0.2,0.8,0.8,1.0,1.0,0.2,0.2,0.2,1.0,1.0,0.2,0.2,1.0,1.0,0.4,1.0,1.0,1.0,0.4,1.0,0.8,0.8,0.2,0.2,0.8,0.4,0.2,0.8,0.8,0.8,0.2,0.0,0.4,0.2,1.0,0.8,0.2,0.2,0.2,1.0,0.2,0.4,0.2,0.2,0.8,0.4,1.0,0.4,0.4,0.4,1.0,0.2,0.0,0.2,0.8,0.2,1.0,1.0,0.0,0.0,0.0,0.0,0.0,0.0,0.2,0.2,0.0,0.2,0.0,0.0,0.0,0.0,0.0,0.0,0.2,0.0,0.0,0.2,0.0,0.2,0.0,0.2,0.0,0.0,0.0,0.0,0.0,0.2,0.2,0.2,0.2,0.2,0.0,0.2,0.2,0.0,0.0,0.0,0.2,0.0,0.2,0.2,0.4,0.0,0.2,0.2,0.0,0.4,1.0,0.2,0.2,0.4,0.4,0.4,0.4,0.4,0.4,0.4,0.4,0.2,0.4,0.2,0.0,0.0,0.4,0.4,0.4,1.0,0.2,0.4,0.4,0.0,0.4,0.4,0.0,0.2,0.4,0.0,0.4,0.8,0.4,0.2,0.2,0.4,0.0,0.8,1.0,0.2,1.0,0.2,1.0,0.0,0.0,1.0,1.0,0.8,0.2,0.2,1.0,1.0,0.4,0.2,1.0,0.8,0.4,1.0,0.6,1.0,1.0,0.2,1.0,0.4,1.0,1.0,0.2,1.0,0.4,0.4,1.0,0.4,0.0,0.4,1.0,1.0,0.4,0.6,0.0,1.0,1.0,0.4,0.0,0.6,1.0,1.0,0.6,0.6,1.0,0.6,0.4,0.4,0.0,0.6,0.0,0.6,0.6,0.0,0.8,1.0,0.2,0.2,0.8,0.6,0.6,0.6,0.6,1.0,0.8,0.2,0.0,1.0,0.2,0.2,0.8,0.8,1.0,0.2,0.8,0.2,0.0,0.2,0.8,1.0,0.8,1.0,0.0,0.0,0.2,0.4,0.4,0.0,0.0,0.2,0.8,0.6,0.2,0.4,0.8,0.4,0.6,0.6,0.4,0.8,0.6,0.0,1.0,0.2,0.6,1.0,0.8,0.2,0.2,0.8,0.8,0.2,0.0,1.0,0.4,0.6,0.8,1.0,0.2,0.8,0.8,0.2,0.2,0.8,0.8,0.8,0.6,0.6,0.6,0.8,0.2,0.2,0.0,1.0,0.8,1.0,1.0,0.6,0.2,0.4,0.8,0.8,0.6,0.6,0.2,0.4,0.6,0.6,0.2,0.4,0.2,0.2,0.6,0.6,0.6,0.2,0.2,0.0,0.4,0.0,0.4,0.2,0.6,0.6,0.6,0.4,0.6,0.4,0.4,0.6,0.4,0.2,0.6,0.4,0.6,0.6,0.4,0.6,0.6,0.6,0.4,0.4,0.6,0.2,0.8,0.2,1.0,1.0,0.2,0.8,0.2,0.8,1.0,1.0,0.8,0.8,0.2,1.0,0.8,1.0,1.0,1.0,1.0,0.0,1.0,1.0,1.0,0.8,0.8,0.0,1.0,1.0,0.8,1.0,1.0,1.0,0.8,0.2,1.0,0.2,0.8,1.0,0.8,0.2,0.8,1.0,1.0,0.6,0.6,0.0,0.2,0.0,0.6,0.4,0.8,0.4,1.0,0.0,1.0,0.2,0.0,0.0,0.4,1.0,0.8,0.4,0.0,1.0,0.0,0.6,1.0,0.0,0.2,0.6,1.0,0.2,0.6,0.4,0.2,0.8,0.6,0.8,0.6,0.2,1.0,1.0,0.2,1.0,0.6,0.4,0.6,0.6,0.6,0.6,0.2,0.2,0.2,0.6,0.8,0.0,0.6,0.2,1.0,0.0,0.0,0.2,0.0,1.0,0.8,0.0,0.0,0.2,0.0,0.0,0.4,0.0,0.2,0.0,0.4,0.0,0.6,0.0,0.0,0.0,0.0,0.0,0.8,0.0,0.0,0.0,0.0,0.8,0.4,0.4,0.6,0.0,0.0,0.0,0.0,0.4,0.0,1.0,0.6,0.4,0.4,0.2,0.2,0.4,0.8,0.0,0.6,0.2,0.0,0.6,0.2,0.4,0.4,0.4,0.6,0.6,0.8,0.8,0.2,0.2,0.4,0.4,0.0,0.0,0.4,0.2,0.8,1.0,0.2,0.0,0.8,0.0,0.0,0.8,0.0,0.0,0.0,0.6,0.8,0.8,1.0,0.2,0.0,0.4,0.2,1.0,0.0,0.0,1.0,0.2,0.0,0.8,1.0,1.0,0.2,1.0,0.2,1.0,0.8,0.0,1.0,0.2,0.0,1.0,1.0,1.0,1.0,0.4,0.2,1.0,1.0,1.0,1.0,1.0,0.4,0.2,1.0,0.2,1.0,0.0,1.0,1.0,1.0,1.0,0.4,0.8,0.0,1.0,0.4,0.8,0.8,0.4,1.0,0.8,1.0,0.0,0.0,0.2,0.8,0.8,0.4,1.0,0.2,1.0,0.8,1.0,0.4,1.0,0.0,1.0,1.0,0.0,0.2,1.0,0.2,1.0,0.4,0.4,0.2,0.4,0.6,0.4,0.2,0.4,0.4,0.2,0.4,0.2,0.4,0.6,0.0,0.0,0.4,0.2,0.4,0.6,0.2,0.2,0.2,0.2,0.6,0.4,0.2,0.2,0.4,0.0,0.0,0.2,0.0,0.4,0.4,0.4,0.0,0.2,0.2,0.4,0.2,1.0,0.8,0.2,0.0,0.4,0.2,0.0,0.2,0.0,0.2,1.0,0.2,0.0,0.0,0.2,0.0,0.0,1.0,0.6,0.8,0.2,0.4,0.0,0.8,0.0,0.2,0.2,0.2,1.0,0.8,0.4,0.8,0.8,0.4,0.2,0.4,0.8,0.8,0.8,0.8,1.0,0.8,0.4,0.8,1.0,0.8,1.0,0.4,1.0,0.8,0.8,1.0,1.0,1.0,1.0,0.4,0.6,1.0,0.0,0.2,0.2,0.2,0.6,0.0,0.6,0.6,0.6,0.2,0.2,0.8,0.6,0.8,0.8,0.2,0.2,0.2,1.0,0.0,0.0,0.2,0.6,0.6,0.6,0.6,0.2,0.2,0.2,0.2,0.2,0.8,0.2,0.0,1.0,1.0,0.0,0.6,0.2,1.0,1.0,0.0,0.2,1.0,0.0,0.2,0.0,0.8,0.2,0.8,0.2,0.2,0.2,0.0,0.0,0.2,0.0,0.0,0.0,0.4,0.2,0.6,0.0,0.4,0.0,0.0,0.0,1.0,0.4,1.0,1.0,0.4,0.2,0.2,0.6,0.2,1.0,0.0,1.0,1.0,1.0,1.0,0.4,0.2,0.8,1.0,0.0,0.2,0.0,0.2,1.0,1.0,0.0,0.6,0.6,0.8,0.0,0.2,0.4,0.4,0.4,0.4,0.8,0.0,0.8,0.2,0.8,0.4,0.6,0.0,0.2,1.0,0.2,0.8,0.0,0.2,0.2,0.2,0.0,0.4,0.2,0.8,0.6,0.0,0.6,0.0,0.4,0.2,0.4,0.4,1.0,1.0,0.2,1.0,1.0,1.0,1.0,1.0,0.8,1.0,0.0,0.0,0.8,1.0,1.0,0.0,1.0,0.2,1.0,0.8,0.8,0.8,0.0,0.8,0.2,1.0,0.2,0.2,0.8,1.0,1.0,0.8,0.2,0.2,0.6,0.6,0.8,0.2,1.0,1.0,1.0,0.0,0.2,1.0,0.8,0.6,0.0,0.2,1.0,1.0,0.2,0.2,0.2,0.0,0.6,0.2,0.2,0.4,0.2,0.2,0.6,0.6,0.2,0.0,0.2,0.2,0.2,0.4,0.0,0.0,0.4,0.2,0.4,0.2,0.6,0.2,0.2,0.2,0.2,0.2,0.8,0.0,0.0,0.0,1.0,1.0,0.8,1.0,0.8,1.0,1.0,0.6,1.0,1.0,0.6,0.0,1.0,0.8,0.2,0.2,0.4,0.0,0.0,0.8,0.6,1.0,0.8,0.4,0.4,0.4,0.0,0.6,0.4,0.6,0.2,0.4,0.2,0.0,0.8,0.0,0.6,0.0,0.2,0.0,0.6,0.0,0.0,0.0,0.8,0.0,0.0,0.8,0.0,0.6,1.0,1.0,1.0,0.0,0.0,0.0,0.0,1.0,0.8,0.0,0.0,0.0,1.0,0.8,0.4,0.4,0.2,1.0,0.0,0.4,1.0,1.0,0.4,0.2,0.4,0.2,0.2,0.8,1.0,1.0,1.0,1.0,0.0,0.4,1.0,1.0,0.8,0.8,0.4,1.0,0.2,0.8,0.0,0.0,0.0,0.0,0.0,0.0,0.0,0.0,0.6,0.2,0.4,1.0,0.0,0.0,0.0,0.6,1.0,0.2,0.0,1.0,0.6,0.2,1.0,0.6,0.2,0.0,0.0,0.4,0.2,0.6,0.8,0.4,0.4,0.0,0.6,0.4,0.4,0.0,0.0,0.0,0.4,0.4,0.4,0.0,1.0,0.6,0.6,0.4,1.0,0.0,0.0,0.0,0.0,0.6,0.8,0.0,0.2,0.8,0.0,0.0,0.2,0.6,0.0,1.0,0.4,0.2],\"xaxis\":\"x\",\"yaxis\":\"y\"}],                        {\"barmode\":\"relative\",\"legend\":{\"title\":{\"text\":\"variable\"},\"tracegroupgap\":0},\"margin\":{\"t\":60},\"template\":{\"data\":{\"bar\":[{\"error_x\":{\"color\":\"#2a3f5f\"},\"error_y\":{\"color\":\"#2a3f5f\"},\"marker\":{\"line\":{\"color\":\"#E5ECF6\",\"width\":0.5},\"pattern\":{\"fillmode\":\"overlay\",\"size\":10,\"solidity\":0.2}},\"type\":\"bar\"}],\"barpolar\":[{\"marker\":{\"line\":{\"color\":\"#E5ECF6\",\"width\":0.5},\"pattern\":{\"fillmode\":\"overlay\",\"size\":10,\"solidity\":0.2}},\"type\":\"barpolar\"}],\"carpet\":[{\"aaxis\":{\"endlinecolor\":\"#2a3f5f\",\"gridcolor\":\"white\",\"linecolor\":\"white\",\"minorgridcolor\":\"white\",\"startlinecolor\":\"#2a3f5f\"},\"baxis\":{\"endlinecolor\":\"#2a3f5f\",\"gridcolor\":\"white\",\"linecolor\":\"white\",\"minorgridcolor\":\"white\",\"startlinecolor\":\"#2a3f5f\"},\"type\":\"carpet\"}],\"choropleth\":[{\"colorbar\":{\"outlinewidth\":0,\"ticks\":\"\"},\"type\":\"choropleth\"}],\"contour\":[{\"colorbar\":{\"outlinewidth\":0,\"ticks\":\"\"},\"colorscale\":[[0.0,\"#0d0887\"],[0.1111111111111111,\"#46039f\"],[0.2222222222222222,\"#7201a8\"],[0.3333333333333333,\"#9c179e\"],[0.4444444444444444,\"#bd3786\"],[0.5555555555555556,\"#d8576b\"],[0.6666666666666666,\"#ed7953\"],[0.7777777777777778,\"#fb9f3a\"],[0.8888888888888888,\"#fdca26\"],[1.0,\"#f0f921\"]],\"type\":\"contour\"}],\"contourcarpet\":[{\"colorbar\":{\"outlinewidth\":0,\"ticks\":\"\"},\"type\":\"contourcarpet\"}],\"heatmap\":[{\"colorbar\":{\"outlinewidth\":0,\"ticks\":\"\"},\"colorscale\":[[0.0,\"#0d0887\"],[0.1111111111111111,\"#46039f\"],[0.2222222222222222,\"#7201a8\"],[0.3333333333333333,\"#9c179e\"],[0.4444444444444444,\"#bd3786\"],[0.5555555555555556,\"#d8576b\"],[0.6666666666666666,\"#ed7953\"],[0.7777777777777778,\"#fb9f3a\"],[0.8888888888888888,\"#fdca26\"],[1.0,\"#f0f921\"]],\"type\":\"heatmap\"}],\"heatmapgl\":[{\"colorbar\":{\"outlinewidth\":0,\"ticks\":\"\"},\"colorscale\":[[0.0,\"#0d0887\"],[0.1111111111111111,\"#46039f\"],[0.2222222222222222,\"#7201a8\"],[0.3333333333333333,\"#9c179e\"],[0.4444444444444444,\"#bd3786\"],[0.5555555555555556,\"#d8576b\"],[0.6666666666666666,\"#ed7953\"],[0.7777777777777778,\"#fb9f3a\"],[0.8888888888888888,\"#fdca26\"],[1.0,\"#f0f921\"]],\"type\":\"heatmapgl\"}],\"histogram\":[{\"marker\":{\"pattern\":{\"fillmode\":\"overlay\",\"size\":10,\"solidity\":0.2}},\"type\":\"histogram\"}],\"histogram2d\":[{\"colorbar\":{\"outlinewidth\":0,\"ticks\":\"\"},\"colorscale\":[[0.0,\"#0d0887\"],[0.1111111111111111,\"#46039f\"],[0.2222222222222222,\"#7201a8\"],[0.3333333333333333,\"#9c179e\"],[0.4444444444444444,\"#bd3786\"],[0.5555555555555556,\"#d8576b\"],[0.6666666666666666,\"#ed7953\"],[0.7777777777777778,\"#fb9f3a\"],[0.8888888888888888,\"#fdca26\"],[1.0,\"#f0f921\"]],\"type\":\"histogram2d\"}],\"histogram2dcontour\":[{\"colorbar\":{\"outlinewidth\":0,\"ticks\":\"\"},\"colorscale\":[[0.0,\"#0d0887\"],[0.1111111111111111,\"#46039f\"],[0.2222222222222222,\"#7201a8\"],[0.3333333333333333,\"#9c179e\"],[0.4444444444444444,\"#bd3786\"],[0.5555555555555556,\"#d8576b\"],[0.6666666666666666,\"#ed7953\"],[0.7777777777777778,\"#fb9f3a\"],[0.8888888888888888,\"#fdca26\"],[1.0,\"#f0f921\"]],\"type\":\"histogram2dcontour\"}],\"mesh3d\":[{\"colorbar\":{\"outlinewidth\":0,\"ticks\":\"\"},\"type\":\"mesh3d\"}],\"parcoords\":[{\"line\":{\"colorbar\":{\"outlinewidth\":0,\"ticks\":\"\"}},\"type\":\"parcoords\"}],\"pie\":[{\"automargin\":true,\"type\":\"pie\"}],\"scatter\":[{\"marker\":{\"colorbar\":{\"outlinewidth\":0,\"ticks\":\"\"}},\"type\":\"scatter\"}],\"scatter3d\":[{\"line\":{\"colorbar\":{\"outlinewidth\":0,\"ticks\":\"\"}},\"marker\":{\"colorbar\":{\"outlinewidth\":0,\"ticks\":\"\"}},\"type\":\"scatter3d\"}],\"scattercarpet\":[{\"marker\":{\"colorbar\":{\"outlinewidth\":0,\"ticks\":\"\"}},\"type\":\"scattercarpet\"}],\"scattergeo\":[{\"marker\":{\"colorbar\":{\"outlinewidth\":0,\"ticks\":\"\"}},\"type\":\"scattergeo\"}],\"scattergl\":[{\"marker\":{\"colorbar\":{\"outlinewidth\":0,\"ticks\":\"\"}},\"type\":\"scattergl\"}],\"scattermapbox\":[{\"marker\":{\"colorbar\":{\"outlinewidth\":0,\"ticks\":\"\"}},\"type\":\"scattermapbox\"}],\"scatterpolar\":[{\"marker\":{\"colorbar\":{\"outlinewidth\":0,\"ticks\":\"\"}},\"type\":\"scatterpolar\"}],\"scatterpolargl\":[{\"marker\":{\"colorbar\":{\"outlinewidth\":0,\"ticks\":\"\"}},\"type\":\"scatterpolargl\"}],\"scatterternary\":[{\"marker\":{\"colorbar\":{\"outlinewidth\":0,\"ticks\":\"\"}},\"type\":\"scatterternary\"}],\"surface\":[{\"colorbar\":{\"outlinewidth\":0,\"ticks\":\"\"},\"colorscale\":[[0.0,\"#0d0887\"],[0.1111111111111111,\"#46039f\"],[0.2222222222222222,\"#7201a8\"],[0.3333333333333333,\"#9c179e\"],[0.4444444444444444,\"#bd3786\"],[0.5555555555555556,\"#d8576b\"],[0.6666666666666666,\"#ed7953\"],[0.7777777777777778,\"#fb9f3a\"],[0.8888888888888888,\"#fdca26\"],[1.0,\"#f0f921\"]],\"type\":\"surface\"}],\"table\":[{\"cells\":{\"fill\":{\"color\":\"#EBF0F8\"},\"line\":{\"color\":\"white\"}},\"header\":{\"fill\":{\"color\":\"#C8D4E3\"},\"line\":{\"color\":\"white\"}},\"type\":\"table\"}]},\"layout\":{\"annotationdefaults\":{\"arrowcolor\":\"#2a3f5f\",\"arrowhead\":0,\"arrowwidth\":1},\"autotypenumbers\":\"strict\",\"coloraxis\":{\"colorbar\":{\"outlinewidth\":0,\"ticks\":\"\"}},\"colorscale\":{\"diverging\":[[0,\"#8e0152\"],[0.1,\"#c51b7d\"],[0.2,\"#de77ae\"],[0.3,\"#f1b6da\"],[0.4,\"#fde0ef\"],[0.5,\"#f7f7f7\"],[0.6,\"#e6f5d0\"],[0.7,\"#b8e186\"],[0.8,\"#7fbc41\"],[0.9,\"#4d9221\"],[1,\"#276419\"]],\"sequential\":[[0.0,\"#0d0887\"],[0.1111111111111111,\"#46039f\"],[0.2222222222222222,\"#7201a8\"],[0.3333333333333333,\"#9c179e\"],[0.4444444444444444,\"#bd3786\"],[0.5555555555555556,\"#d8576b\"],[0.6666666666666666,\"#ed7953\"],[0.7777777777777778,\"#fb9f3a\"],[0.8888888888888888,\"#fdca26\"],[1.0,\"#f0f921\"]],\"sequentialminus\":[[0.0,\"#0d0887\"],[0.1111111111111111,\"#46039f\"],[0.2222222222222222,\"#7201a8\"],[0.3333333333333333,\"#9c179e\"],[0.4444444444444444,\"#bd3786\"],[0.5555555555555556,\"#d8576b\"],[0.6666666666666666,\"#ed7953\"],[0.7777777777777778,\"#fb9f3a\"],[0.8888888888888888,\"#fdca26\"],[1.0,\"#f0f921\"]]},\"colorway\":[\"#636efa\",\"#EF553B\",\"#00cc96\",\"#ab63fa\",\"#FFA15A\",\"#19d3f3\",\"#FF6692\",\"#B6E880\",\"#FF97FF\",\"#FECB52\"],\"font\":{\"color\":\"#2a3f5f\"},\"geo\":{\"bgcolor\":\"white\",\"lakecolor\":\"white\",\"landcolor\":\"#E5ECF6\",\"showlakes\":true,\"showland\":true,\"subunitcolor\":\"white\"},\"hoverlabel\":{\"align\":\"left\"},\"hovermode\":\"closest\",\"mapbox\":{\"style\":\"light\"},\"paper_bgcolor\":\"white\",\"plot_bgcolor\":\"#E5ECF6\",\"polar\":{\"angularaxis\":{\"gridcolor\":\"white\",\"linecolor\":\"white\",\"ticks\":\"\"},\"bgcolor\":\"#E5ECF6\",\"radialaxis\":{\"gridcolor\":\"white\",\"linecolor\":\"white\",\"ticks\":\"\"}},\"scene\":{\"xaxis\":{\"backgroundcolor\":\"#E5ECF6\",\"gridcolor\":\"white\",\"gridwidth\":2,\"linecolor\":\"white\",\"showbackground\":true,\"ticks\":\"\",\"zerolinecolor\":\"white\"},\"yaxis\":{\"backgroundcolor\":\"#E5ECF6\",\"gridcolor\":\"white\",\"gridwidth\":2,\"linecolor\":\"white\",\"showbackground\":true,\"ticks\":\"\",\"zerolinecolor\":\"white\"},\"zaxis\":{\"backgroundcolor\":\"#E5ECF6\",\"gridcolor\":\"white\",\"gridwidth\":2,\"linecolor\":\"white\",\"showbackground\":true,\"ticks\":\"\",\"zerolinecolor\":\"white\"}},\"shapedefaults\":{\"line\":{\"color\":\"#2a3f5f\"}},\"ternary\":{\"aaxis\":{\"gridcolor\":\"white\",\"linecolor\":\"white\",\"ticks\":\"\"},\"baxis\":{\"gridcolor\":\"white\",\"linecolor\":\"white\",\"ticks\":\"\"},\"bgcolor\":\"#E5ECF6\",\"caxis\":{\"gridcolor\":\"white\",\"linecolor\":\"white\",\"ticks\":\"\"}},\"title\":{\"x\":0.05},\"xaxis\":{\"automargin\":true,\"gridcolor\":\"white\",\"linecolor\":\"white\",\"ticks\":\"\",\"title\":{\"standoff\":15},\"zerolinecolor\":\"white\",\"zerolinewidth\":2},\"yaxis\":{\"automargin\":true,\"gridcolor\":\"white\",\"linecolor\":\"white\",\"ticks\":\"\",\"title\":{\"standoff\":15},\"zerolinecolor\":\"white\",\"zerolinewidth\":2}}},\"xaxis\":{\"anchor\":\"y\",\"domain\":[0.0,1.0],\"title\":{\"text\":\"value\"}},\"yaxis\":{\"anchor\":\"x\",\"domain\":[0.0,1.0],\"title\":{\"text\":\"count\"}}},                        {\"responsive\": true}                    ).then(function(){\n",
       "                            \n",
       "var gd = document.getElementById('2335db91-fc63-4d04-8e3f-12924a696229');\n",
       "var x = new MutationObserver(function (mutations, observer) {{\n",
       "        var display = window.getComputedStyle(gd).display;\n",
       "        if (!display || display === 'none') {{\n",
       "            console.log([gd, 'removed!']);\n",
       "            Plotly.purge(gd);\n",
       "            observer.disconnect();\n",
       "        }}\n",
       "}});\n",
       "\n",
       "// Listen for the removal of the full notebook cells\n",
       "var notebookContainer = gd.closest('#notebook-container');\n",
       "if (notebookContainer) {{\n",
       "    x.observe(notebookContainer, {childList: true});\n",
       "}}\n",
       "\n",
       "// Listen for the clearing of the current output cell\n",
       "var outputEl = gd.closest('.output');\n",
       "if (outputEl) {{\n",
       "    x.observe(outputEl, {childList: true});\n",
       "}}\n",
       "\n",
       "                        })                };                });            </script>        </div>"
      ]
     },
     "metadata": {},
     "output_type": "display_data"
    }
   ],
   "source": [
    "fig = px.histogram(df.score)\n",
    "fig.show()"
   ]
  },
  {
   "cell_type": "code",
   "execution_count": 78,
   "id": "ee69b833-cbbf-44c4-b4af-c55200f81353",
   "metadata": {},
   "outputs": [
    {
     "data": {
      "text/plain": [
       "array([0. , 0.2, 1. , 0.4, 0.8, 0.6])"
      ]
     },
     "execution_count": 78,
     "metadata": {},
     "output_type": "execute_result"
    }
   ],
   "source": [
    "df.score.unique()"
   ]
  },
  {
   "cell_type": "code",
   "execution_count": 79,
   "id": "fcddc5f0-4e6f-4ec0-a38a-d3070a1ce852",
   "metadata": {},
   "outputs": [
    {
     "data": {
      "text/plain": [
       "0.34853168469860896"
      ]
     },
     "execution_count": 79,
     "metadata": {},
     "output_type": "execute_result"
    }
   ],
   "source": [
    "sum(df.score > 0.75) / len(df)"
   ]
  },
  {
   "cell_type": "code",
   "execution_count": 80,
   "id": "650cb5f9-d291-4cae-94f5-fbef0506d20f",
   "metadata": {},
   "outputs": [
    {
     "data": {
      "text/plain": [
       "0.2132921174652241"
      ]
     },
     "execution_count": 80,
     "metadata": {},
     "output_type": "execute_result"
    }
   ],
   "source": [
    "sum(df.score > 0.95) / len(df)"
   ]
  },
  {
   "cell_type": "code",
   "execution_count": 119,
   "id": "d650cdf6-cd31-4031-b416-9912a58914b2",
   "metadata": {},
   "outputs": [
    {
     "name": "stdout",
     "output_type": "stream",
     "text": [
      "(array(276.), array(185.93336818))\n",
      "0.19629057187017002\n",
      "0.2132921174652241\n",
      "0.23106646058732613\n"
     ]
    }
   ],
   "source": [
    "N = 9000\n",
    "k = N * np.mean(df.score > 0.95)\n",
    "n = len(df)\n",
    "\n",
    "rv = hypergeom(N, k, n)\n",
    "\n",
    "print(rv.stats())\n",
    "print(rv.ppf(0.05) / len(df))\n",
    "print(rv.ppf(0.5) / len(df))\n",
    "print(rv.ppf(0.95) / len(df))"
   ]
  },
  {
   "cell_type": "code",
   "execution_count": null,
   "id": "bcba984a-f60a-4f77-9656-0f434eb6ff9a",
   "metadata": {},
   "outputs": [],
   "source": []
  }
 ],
 "metadata": {
  "kernelspec": {
   "display_name": "Python 3 (ipykernel)",
   "language": "python",
   "name": "python3"
  },
  "language_info": {
   "codemirror_mode": {
    "name": "ipython",
    "version": 3
   },
   "file_extension": ".py",
   "mimetype": "text/x-python",
   "name": "python",
   "nbconvert_exporter": "python",
   "pygments_lexer": "ipython3",
   "version": "3.9.5"
  }
 },
 "nbformat": 4,
 "nbformat_minor": 5
}
